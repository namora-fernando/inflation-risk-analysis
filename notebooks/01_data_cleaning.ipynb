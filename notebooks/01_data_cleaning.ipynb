{
 "cells": [
  {
   "cell_type": "markdown",
   "id": "5d76fa63-2057-40b6-b3e3-eb4d29398772",
   "metadata": {},
   "source": [
    "# 01 - Data Cleaning: Inflation Risk Analysis\n",
    "**Author:** Namora Fernando  \n",
    "**Date:** 2025-08-17 <br>\n",
    "**Objective:** Clean and merge four World Bank datasets:\n",
    "1. CPI (% change, annual)\n",
    "2. GDP Growth (%)\n",
    "3. Money Supply (% of GDP)\n",
    "4. Exchange Rate (LCU to USD)"
   ]
  },
  {
   "cell_type": "markdown",
   "id": "8403baf1-a21f-4be8-9c6b-62e24aabd0d5",
   "metadata": {},
   "source": [
    "## 1. Introduction\n",
    "The goal of this notebook is to prepare a single clean dataset for inflation risk analysis across countries.  \n",
    "We will:\n",
    "- Load all raw datasets.\n",
    "- Standardize the structure.\n",
    "- Handle missing values.\n",
    "- Merge into a wide table.\n",
    "- Save as `cleaned_merged_inflation_data.csv`."
   ]
  },
  {
   "cell_type": "markdown",
   "id": "f7b16a68-bfbd-4f2a-a487-88d2eb77fe93",
   "metadata": {},
   "source": [
    "## 2. Import Libraries"
   ]
  },
  {
   "cell_type": "code",
   "execution_count": 1,
   "id": "43186b39-cde2-480d-95d7-5fa791f1a5c1",
   "metadata": {},
   "outputs": [],
   "source": [
    "import pandas as pd\n",
    "import numpy as np\n",
    "import os"
   ]
  },
  {
   "cell_type": "markdown",
   "id": "4532d89e-b427-405b-9c8f-4034e5ee35bd",
   "metadata": {},
   "source": [
    "## 3. Define File Paths"
   ]
  },
  {
   "cell_type": "code",
   "execution_count": 2,
   "id": "4d4c7530-abeb-491d-9685-c5d512ce1bae",
   "metadata": {},
   "outputs": [],
   "source": [
    "# Raw data directory\n",
    "RAW_DIR = \"raw_data/\"\n",
    "\n",
    "# Output directory\n",
    "OUTPUT_DIR = \"data_intermediate/\"\n",
    "os.makedirs(OUTPUT_DIR, exist_ok=True)\n",
    "\n",
    "# File paths\n",
    "cpi_file = os.path.join(RAW_DIR, \"API_FP.CPI.TOTL.ZG.csv\")\n",
    "gdp_file = os.path.join(RAW_DIR, \"API_NY.GDP.MKTP.KD.ZG.csv\")\n",
    "money_file = os.path.join(RAW_DIR, \"API_FM.LBL.BMNY.GD.ZS.csv\")\n",
    "exchange_file = os.path.join(RAW_DIR, \"API_PA.NUS.FCRF.csv\")"
   ]
  },
  {
   "cell_type": "markdown",
   "id": "3e5eaa49-eed8-4ca0-9e5f-a61c46f252ea",
   "metadata": {},
   "source": [
    "## 4. Load and Inspect Data\n",
    "First, let's see the first rows from the dataset:"
   ]
  },
  {
   "cell_type": "code",
   "execution_count": 3,
   "id": "6bdc31d4-0af8-4740-bbf0-83c116fc4e7f",
   "metadata": {},
   "outputs": [
    {
     "name": "stdout",
     "output_type": "stream",
     "text": [
      "﻿\"Data Source\",\"World Development Indicators\",\n",
      "\n",
      "\"Last Updated Date\",\"2025-07-01\",\n",
      "\n",
      "\"Country Name\",\"Country Code\",\"Indicator Name\",\"Indicator Code\",\"1960\",\"1961\",\"1962\",\"1963\",\"1964\",\"1965\",\"1966\",\"1967\",\"1968\",\"1969\",\"1970\",\"1971\",\"1972\",\"1973\",\"1974\",\"1975\",\"1976\",\"1977\",\"1978\",\"1979\",\"1980\",\"1981\",\"1982\",\"1983\",\"1984\",\"1985\",\"1986\",\"1987\",\"1988\",\"1989\",\"1990\",\"1991\",\"1992\",\"1993\",\"1994\",\"1995\",\"1996\",\"1997\",\"1998\",\"1999\",\"2000\",\"2001\",\"2002\",\"2003\",\"2004\",\"2005\",\"2006\",\"2007\",\"2008\",\"2009\",\"2010\",\"2011\",\"2012\",\"2013\",\"2014\",\"2015\",\"2016\",\"2017\",\"2018\",\"2019\",\"2020\",\"2021\",\"2022\",\"2023\",\"2024\",\n",
      "\"Aruba\",\"ABW\",\"Inflation, consumer prices (annual %)\",\"FP.CPI.TOTL.ZG\",\"\",\"\",\"\",\"\",\"\",\"\",\"\",\"\",\"\",\"\",\"\",\"\",\"\",\"\",\"\",\"\",\"\",\"\",\"\",\"\",\"\",\"\",\"\",\"\",\"\",\"4.03225805628628\",\"1.07396640826829\",\"3.64304545817706\",\"3.12186849610723\",\"3.99162804604575\",\"5.83668775158166\",\"5.55555555555579\",\"3.8733753699648\",\"5.2155599603571\",\"6.3110797127044\",\"3.36139107320899\",\"3.22528797213979\",\"2.99994809778412\",\"1.86948853615541\",\"2.28037198258753\",\"4.04402131190513\",\"2.88360430316264\",\"3.31524678585423\",\"3.65636507938418\",\"2.52912946932762\",\"3.39778677828806\",\"3.60802438784541\",\"5.39256784475517\",\"8.95598705177784\",\"-2.13542872046937\",\"2.07814071860787\",\"4.31629742195203\",\"0.627471992893373\",\"-2.37206524252261\",\"0.421440918881214\",\"0.474763597342641\",\"-0.931195987079561\",\"-1.02828178762012\",\"3.62604141352961\",\"4.25746204335428\",\"\",\"\",\"\",\"\",\"\",\n"
     ]
    }
   ],
   "source": [
    "# Inspect raw CPI CSV without skiprows, to see metadata\n",
    "with open(cpi_file, \"r\", encoding=\"utf-8\") as f:\n",
    "    for i in range(6):   # print first 6 lines\n",
    "        print(f.readline().strip())"
   ]
  },
  {
   "cell_type": "markdown",
   "id": "361f2d9d-60e3-4f26-9d3f-bc831d594bdc",
   "metadata": {},
   "source": [
    "> Notice that the first 4 rows contain metadata rather than actual data. This is a standard format for World Bank datasets.\n",
    "> The same structure applies to the other 3 datasets (not shown here for brevity)."
   ]
  },
  {
   "cell_type": "code",
   "execution_count": 4,
   "id": "c11053e3-3326-408f-aec6-3972a5efef40",
   "metadata": {},
   "outputs": [
    {
     "data": {
      "text/html": [
       "<div>\n",
       "<style scoped>\n",
       "    .dataframe tbody tr th:only-of-type {\n",
       "        vertical-align: middle;\n",
       "    }\n",
       "\n",
       "    .dataframe tbody tr th {\n",
       "        vertical-align: top;\n",
       "    }\n",
       "\n",
       "    .dataframe thead th {\n",
       "        text-align: right;\n",
       "    }\n",
       "</style>\n",
       "<table border=\"1\" class=\"dataframe\">\n",
       "  <thead>\n",
       "    <tr style=\"text-align: right;\">\n",
       "      <th></th>\n",
       "      <th>Country Name</th>\n",
       "      <th>Country Code</th>\n",
       "      <th>Indicator Name</th>\n",
       "      <th>Indicator Code</th>\n",
       "      <th>1960</th>\n",
       "      <th>1961</th>\n",
       "      <th>1962</th>\n",
       "      <th>1963</th>\n",
       "      <th>1964</th>\n",
       "      <th>1965</th>\n",
       "      <th>...</th>\n",
       "      <th>2016</th>\n",
       "      <th>2017</th>\n",
       "      <th>2018</th>\n",
       "      <th>2019</th>\n",
       "      <th>2020</th>\n",
       "      <th>2021</th>\n",
       "      <th>2022</th>\n",
       "      <th>2023</th>\n",
       "      <th>2024</th>\n",
       "      <th>Unnamed: 69</th>\n",
       "    </tr>\n",
       "  </thead>\n",
       "  <tbody>\n",
       "    <tr>\n",
       "      <th>0</th>\n",
       "      <td>Aruba</td>\n",
       "      <td>ABW</td>\n",
       "      <td>Inflation, consumer prices (annual %)</td>\n",
       "      <td>FP.CPI.TOTL.ZG</td>\n",
       "      <td>NaN</td>\n",
       "      <td>NaN</td>\n",
       "      <td>NaN</td>\n",
       "      <td>NaN</td>\n",
       "      <td>NaN</td>\n",
       "      <td>NaN</td>\n",
       "      <td>...</td>\n",
       "      <td>-0.931196</td>\n",
       "      <td>-1.028282</td>\n",
       "      <td>3.626041</td>\n",
       "      <td>4.257462</td>\n",
       "      <td>NaN</td>\n",
       "      <td>NaN</td>\n",
       "      <td>NaN</td>\n",
       "      <td>NaN</td>\n",
       "      <td>NaN</td>\n",
       "      <td>NaN</td>\n",
       "    </tr>\n",
       "    <tr>\n",
       "      <th>1</th>\n",
       "      <td>Africa Eastern and Southern</td>\n",
       "      <td>AFE</td>\n",
       "      <td>Inflation, consumer prices (annual %)</td>\n",
       "      <td>FP.CPI.TOTL.ZG</td>\n",
       "      <td>NaN</td>\n",
       "      <td>NaN</td>\n",
       "      <td>NaN</td>\n",
       "      <td>NaN</td>\n",
       "      <td>NaN</td>\n",
       "      <td>NaN</td>\n",
       "      <td>...</td>\n",
       "      <td>6.596505</td>\n",
       "      <td>6.399343</td>\n",
       "      <td>4.720805</td>\n",
       "      <td>4.644967</td>\n",
       "      <td>5.405162</td>\n",
       "      <td>7.240978</td>\n",
       "      <td>10.773751</td>\n",
       "      <td>7.126975</td>\n",
       "      <td>4.425471</td>\n",
       "      <td>NaN</td>\n",
       "    </tr>\n",
       "    <tr>\n",
       "      <th>2</th>\n",
       "      <td>Afghanistan</td>\n",
       "      <td>AFG</td>\n",
       "      <td>Inflation, consumer prices (annual %)</td>\n",
       "      <td>FP.CPI.TOTL.ZG</td>\n",
       "      <td>NaN</td>\n",
       "      <td>NaN</td>\n",
       "      <td>NaN</td>\n",
       "      <td>NaN</td>\n",
       "      <td>NaN</td>\n",
       "      <td>NaN</td>\n",
       "      <td>...</td>\n",
       "      <td>4.383892</td>\n",
       "      <td>4.975952</td>\n",
       "      <td>0.626149</td>\n",
       "      <td>2.302373</td>\n",
       "      <td>5.601888</td>\n",
       "      <td>5.133203</td>\n",
       "      <td>13.712102</td>\n",
       "      <td>-4.644709</td>\n",
       "      <td>-6.601186</td>\n",
       "      <td>NaN</td>\n",
       "    </tr>\n",
       "    <tr>\n",
       "      <th>3</th>\n",
       "      <td>Africa Western and Central</td>\n",
       "      <td>AFW</td>\n",
       "      <td>Inflation, consumer prices (annual %)</td>\n",
       "      <td>FP.CPI.TOTL.ZG</td>\n",
       "      <td>NaN</td>\n",
       "      <td>NaN</td>\n",
       "      <td>NaN</td>\n",
       "      <td>NaN</td>\n",
       "      <td>NaN</td>\n",
       "      <td>NaN</td>\n",
       "      <td>...</td>\n",
       "      <td>1.487416</td>\n",
       "      <td>1.725486</td>\n",
       "      <td>1.784050</td>\n",
       "      <td>1.983092</td>\n",
       "      <td>2.490378</td>\n",
       "      <td>3.745700</td>\n",
       "      <td>7.774027</td>\n",
       "      <td>5.302548</td>\n",
       "      <td>3.765558</td>\n",
       "      <td>NaN</td>\n",
       "    </tr>\n",
       "    <tr>\n",
       "      <th>4</th>\n",
       "      <td>Angola</td>\n",
       "      <td>AGO</td>\n",
       "      <td>Inflation, consumer prices (annual %)</td>\n",
       "      <td>FP.CPI.TOTL.ZG</td>\n",
       "      <td>NaN</td>\n",
       "      <td>NaN</td>\n",
       "      <td>NaN</td>\n",
       "      <td>NaN</td>\n",
       "      <td>NaN</td>\n",
       "      <td>NaN</td>\n",
       "      <td>...</td>\n",
       "      <td>30.694415</td>\n",
       "      <td>29.844480</td>\n",
       "      <td>19.628938</td>\n",
       "      <td>17.080954</td>\n",
       "      <td>22.271539</td>\n",
       "      <td>25.754295</td>\n",
       "      <td>21.355290</td>\n",
       "      <td>13.644102</td>\n",
       "      <td>28.240495</td>\n",
       "      <td>NaN</td>\n",
       "    </tr>\n",
       "  </tbody>\n",
       "</table>\n",
       "<p>5 rows × 70 columns</p>\n",
       "</div>"
      ],
      "text/plain": [
       "                  Country Name Country Code  \\\n",
       "0                        Aruba          ABW   \n",
       "1  Africa Eastern and Southern          AFE   \n",
       "2                  Afghanistan          AFG   \n",
       "3   Africa Western and Central          AFW   \n",
       "4                       Angola          AGO   \n",
       "\n",
       "                          Indicator Name  Indicator Code  1960  1961  1962  \\\n",
       "0  Inflation, consumer prices (annual %)  FP.CPI.TOTL.ZG   NaN   NaN   NaN   \n",
       "1  Inflation, consumer prices (annual %)  FP.CPI.TOTL.ZG   NaN   NaN   NaN   \n",
       "2  Inflation, consumer prices (annual %)  FP.CPI.TOTL.ZG   NaN   NaN   NaN   \n",
       "3  Inflation, consumer prices (annual %)  FP.CPI.TOTL.ZG   NaN   NaN   NaN   \n",
       "4  Inflation, consumer prices (annual %)  FP.CPI.TOTL.ZG   NaN   NaN   NaN   \n",
       "\n",
       "   1963  1964  1965  ...       2016       2017       2018       2019  \\\n",
       "0   NaN   NaN   NaN  ...  -0.931196  -1.028282   3.626041   4.257462   \n",
       "1   NaN   NaN   NaN  ...   6.596505   6.399343   4.720805   4.644967   \n",
       "2   NaN   NaN   NaN  ...   4.383892   4.975952   0.626149   2.302373   \n",
       "3   NaN   NaN   NaN  ...   1.487416   1.725486   1.784050   1.983092   \n",
       "4   NaN   NaN   NaN  ...  30.694415  29.844480  19.628938  17.080954   \n",
       "\n",
       "        2020       2021       2022       2023       2024  Unnamed: 69  \n",
       "0        NaN        NaN        NaN        NaN        NaN          NaN  \n",
       "1   5.405162   7.240978  10.773751   7.126975   4.425471          NaN  \n",
       "2   5.601888   5.133203  13.712102  -4.644709  -6.601186          NaN  \n",
       "3   2.490378   3.745700   7.774027   5.302548   3.765558          NaN  \n",
       "4  22.271539  25.754295  21.355290  13.644102  28.240495          NaN  \n",
       "\n",
       "[5 rows x 70 columns]"
      ]
     },
     "execution_count": 4,
     "metadata": {},
     "output_type": "execute_result"
    }
   ],
   "source": [
    "def load_worldbank_csv(file_path):\n",
    "    \"\"\"\n",
    "    Load World Bank CSV, skip metadata rows, and return DataFrame.\n",
    "    \"\"\"\n",
    "    df = pd.read_csv(file_path, skiprows=4)\n",
    "    return df\n",
    "\n",
    "cpi_df = load_worldbank_csv(cpi_file)\n",
    "gdp_df = load_worldbank_csv(gdp_file)\n",
    "money_df = load_worldbank_csv(money_file)\n",
    "exchange_df = load_worldbank_csv(exchange_file)\n",
    "\n",
    "# Quick re-inspection \n",
    "cpi_df.head()"
   ]
  },
  {
   "cell_type": "markdown",
   "id": "f11b14c5-7683-4903-8ae9-632e007a386f",
   "metadata": {},
   "source": [
    "## 5. Select and Rename Columns\n",
    "\n",
    "We will:\n",
    "\n",
    "- Drop metadata columns: `Indicator Name` and `Indicator Code`\n",
    "- Keep only: `Country Name` and `Country Code` columns.\n",
    "- Melt from wide to long format (`Year`, `Indicator Value`) for both columns.\n",
    "- Add an indicator name for each dataset."
   ]
  },
  {
   "cell_type": "code",
   "execution_count": 5,
   "id": "df1d54fc-a97d-420b-ae2b-e5800ad93419",
   "metadata": {},
   "outputs": [
    {
     "name": "stdout",
     "output_type": "stream",
     "text": [
      "<class 'pandas.core.frame.DataFrame'>\n",
      "RangeIndex: 17556 entries, 0 to 17555\n",
      "Data columns (total 4 columns):\n",
      " #   Column            Non-Null Count  Dtype  \n",
      "---  ------            --------------  -----  \n",
      " 0   Country Name      17556 non-null  object \n",
      " 1   Country Code      17556 non-null  object \n",
      " 2   Year              17556 non-null  object \n",
      " 3   CPI_AnnualChange  11260 non-null  float64\n",
      "dtypes: float64(1), object(3)\n",
      "memory usage: 548.8+ KB\n"
     ]
    }
   ],
   "source": [
    "# First, let us drop meta data columns Indicator Name and Indicator Code\n",
    "cols_to_drop = [c for c in [\"Indicator Name\", \"Indicator Code\"] if c in cpi_df.columns]\n",
    "cpi_df = cpi_df.drop(columns=cols_to_drop, errors=\"ignore\")\n",
    "\n",
    "# Second, we keep only Country Name and Country Code columns and melt the Year column\n",
    "cpi_long = cpi_df.melt(\n",
    "    id_vars=[\"Country Name\", \"Country Code\"], \n",
    "    var_name = \"Year\", \n",
    "    value_name = \"CPI_AnnualChange\"\n",
    ")\n",
    "\n",
    "# Inspect the Year columns after melt process\n",
    "cpi_long.info()"
   ]
  },
  {
   "cell_type": "code",
   "execution_count": 6,
   "id": "296f73d0-358c-4d53-be3e-2b3e0087b251",
   "metadata": {},
   "outputs": [
    {
     "data": {
      "text/plain": [
       "array(['1960', '1961', '1962', '1963', '1964', '1965', '1966', '1967',\n",
       "       '1968', '1969', '1970', '1971', '1972', '1973', '1974', '1975',\n",
       "       '1976', '1977', '1978', '1979', '1980', '1981', '1982', '1983',\n",
       "       '1984', '1985', '1986', '1987', '1988', '1989', '1990', '1991',\n",
       "       '1992', '1993', '1994', '1995', '1996', '1997', '1998', '1999',\n",
       "       '2000', '2001', '2002', '2003', '2004', '2005', '2006', '2007',\n",
       "       '2008', '2009', '2010', '2011', '2012', '2013', '2014', '2015',\n",
       "       '2016', '2017', '2018', '2019', '2020', '2021', '2022', '2023',\n",
       "       '2024', 'Unnamed: 69'], dtype=object)"
      ]
     },
     "execution_count": 6,
     "metadata": {},
     "output_type": "execute_result"
    }
   ],
   "source": [
    "cpi_long[\"Year\"].unique()"
   ]
  },
  {
   "cell_type": "markdown",
   "id": "bba480fe-8275-4653-ae35-dbd829a714e7",
   "metadata": {},
   "source": [
    "Since by default, `Year` column data type is not numeric, needs to be converted first:"
   ]
  },
  {
   "cell_type": "code",
   "execution_count": 7,
   "id": "0566f03d-58e6-4572-b857-09d9cbc75cba",
   "metadata": {},
   "outputs": [
    {
     "name": "stdout",
     "output_type": "stream",
     "text": [
      "<class 'pandas.core.frame.DataFrame'>\n",
      "RangeIndex: 17556 entries, 0 to 17555\n",
      "Data columns (total 4 columns):\n",
      " #   Column            Non-Null Count  Dtype  \n",
      "---  ------            --------------  -----  \n",
      " 0   Country Name      17556 non-null  object \n",
      " 1   Country Code      17556 non-null  object \n",
      " 2   Year              17290 non-null  float64\n",
      " 3   CPI_AnnualChange  11260 non-null  float64\n",
      "dtypes: float64(2), object(2)\n",
      "memory usage: 548.8+ KB\n"
     ]
    }
   ],
   "source": [
    "cpi_long[\"Year\"] = pd.to_numeric(cpi_long[\"Year\"], errors = \"coerce\")\n",
    "\n",
    "cpi_long.info()"
   ]
  },
  {
   "cell_type": "code",
   "execution_count": 8,
   "id": "f79080ec-dd46-4749-a3a3-e80323246fe4",
   "metadata": {},
   "outputs": [],
   "source": [
    "# Do the same process for other data frame\n",
    "\n",
    "def reshape_worldbank(df, indicator_name):\n",
    "    cols_to_drop = [c for c in [\"Indicator Name\", \"Indicator Code\"] if c in df.columns]\n",
    "    df = df.drop(columns=cols_to_drop, errors=\"ignore\") # drop metadata column process\n",
    "    \n",
    "    df_long = df.melt(\n",
    "        id_vars=[\"Country Name\", \"Country Code\"], \n",
    "        var_name=\"Year\", \n",
    "        value_name=indicator_name\n",
    "    ) # keep only Country Name and Country Code, melt the rest to Year and Indicator columns\n",
    "    \n",
    "    df_long[\"Year\"] = pd.to_numeric(df_long[\"Year\"], errors=\"coerce\") # convert numeric\n",
    "    \n",
    "    return df_long\n",
    "\n",
    "gdp_long = reshape_worldbank(gdp_df, \"GDP_Growth\")\n",
    "money_long = reshape_worldbank(money_df, \"MoneySupply_GDPpct\")\n",
    "exchange_long = reshape_worldbank(exchange_df, \"ExchangeRate_LCUperUSD\")"
   ]
  },
  {
   "cell_type": "markdown",
   "id": "483290a5-e700-470f-a91a-dd8f688b8a02",
   "metadata": {},
   "source": [
    "## 6. Merge Datasets\n",
    "\n",
    "We will merge step-by-step on `Country Name` and `Year`."
   ]
  },
  {
   "cell_type": "code",
   "execution_count": 9,
   "id": "f01f0ccb-7d7f-4f19-80fa-9bd95006cd8a",
   "metadata": {},
   "outputs": [
    {
     "data": {
      "text/html": [
       "<div>\n",
       "<style scoped>\n",
       "    .dataframe tbody tr th:only-of-type {\n",
       "        vertical-align: middle;\n",
       "    }\n",
       "\n",
       "    .dataframe tbody tr th {\n",
       "        vertical-align: top;\n",
       "    }\n",
       "\n",
       "    .dataframe thead th {\n",
       "        text-align: right;\n",
       "    }\n",
       "</style>\n",
       "<table border=\"1\" class=\"dataframe\">\n",
       "  <thead>\n",
       "    <tr style=\"text-align: right;\">\n",
       "      <th></th>\n",
       "      <th>Country Name</th>\n",
       "      <th>Country Code</th>\n",
       "      <th>Year</th>\n",
       "      <th>CPI_AnnualChange</th>\n",
       "      <th>GDP_Growth</th>\n",
       "      <th>MoneySupply_GDPpct</th>\n",
       "      <th>ExchangeRate_LCUperUSD</th>\n",
       "    </tr>\n",
       "  </thead>\n",
       "  <tbody>\n",
       "    <tr>\n",
       "      <th>0</th>\n",
       "      <td>Afghanistan</td>\n",
       "      <td>AFG</td>\n",
       "      <td>1960.0</td>\n",
       "      <td>NaN</td>\n",
       "      <td>NaN</td>\n",
       "      <td>NaN</td>\n",
       "      <td>17.196561</td>\n",
       "    </tr>\n",
       "    <tr>\n",
       "      <th>1</th>\n",
       "      <td>Afghanistan</td>\n",
       "      <td>AFG</td>\n",
       "      <td>1961.0</td>\n",
       "      <td>NaN</td>\n",
       "      <td>NaN</td>\n",
       "      <td>NaN</td>\n",
       "      <td>17.196561</td>\n",
       "    </tr>\n",
       "    <tr>\n",
       "      <th>2</th>\n",
       "      <td>Afghanistan</td>\n",
       "      <td>AFG</td>\n",
       "      <td>1962.0</td>\n",
       "      <td>NaN</td>\n",
       "      <td>NaN</td>\n",
       "      <td>NaN</td>\n",
       "      <td>17.196561</td>\n",
       "    </tr>\n",
       "    <tr>\n",
       "      <th>3</th>\n",
       "      <td>Afghanistan</td>\n",
       "      <td>AFG</td>\n",
       "      <td>1963.0</td>\n",
       "      <td>NaN</td>\n",
       "      <td>NaN</td>\n",
       "      <td>NaN</td>\n",
       "      <td>35.109645</td>\n",
       "    </tr>\n",
       "    <tr>\n",
       "      <th>4</th>\n",
       "      <td>Afghanistan</td>\n",
       "      <td>AFG</td>\n",
       "      <td>1964.0</td>\n",
       "      <td>NaN</td>\n",
       "      <td>NaN</td>\n",
       "      <td>NaN</td>\n",
       "      <td>38.692262</td>\n",
       "    </tr>\n",
       "  </tbody>\n",
       "</table>\n",
       "</div>"
      ],
      "text/plain": [
       "  Country Name Country Code    Year  CPI_AnnualChange  GDP_Growth  \\\n",
       "0  Afghanistan          AFG  1960.0               NaN         NaN   \n",
       "1  Afghanistan          AFG  1961.0               NaN         NaN   \n",
       "2  Afghanistan          AFG  1962.0               NaN         NaN   \n",
       "3  Afghanistan          AFG  1963.0               NaN         NaN   \n",
       "4  Afghanistan          AFG  1964.0               NaN         NaN   \n",
       "\n",
       "   MoneySupply_GDPpct  ExchangeRate_LCUperUSD  \n",
       "0                 NaN               17.196561  \n",
       "1                 NaN               17.196561  \n",
       "2                 NaN               17.196561  \n",
       "3                 NaN               35.109645  \n",
       "4                 NaN               38.692262  "
      ]
     },
     "execution_count": 9,
     "metadata": {},
     "output_type": "execute_result"
    }
   ],
   "source": [
    "merged_df = cpi_long.merge(gdp_long, on=[\"Country Name\", \"Country Code\", \"Year\"], how=\"outer\")\n",
    "merged_df = merged_df.merge(money_long, on=[\"Country Name\", \"Country Code\", \"Year\"], how=\"outer\")\n",
    "merged_df = merged_df.merge(exchange_long, on=[\"Country Name\", \"Country Code\", \"Year\"], how=\"outer\")\n",
    "\n",
    "merged_df.head()"
   ]
  },
  {
   "cell_type": "markdown",
   "id": "438a56c2-09e2-4dd6-b3a7-3c093f9d4b3b",
   "metadata": {},
   "source": [
    "## 7. Handle Missing Values\n",
    "\n",
    "Strategy:\n",
    "- Check missing values\n",
    "- Investigate rows with missing values\n",
    "- Handle missing values after investigation"
   ]
  },
  {
   "cell_type": "markdown",
   "id": "3bcd6ea8-2997-429e-966b-f1072c21ad63",
   "metadata": {},
   "source": [
    "### 7A. Check Missing Values\n",
    "Before cleaning, let's inspect missing data to understand the extent and pattern."
   ]
  },
  {
   "cell_type": "code",
   "execution_count": 10,
   "id": "56c7b58e-0883-4438-96fe-51a7a4b70b87",
   "metadata": {},
   "outputs": [
    {
     "data": {
      "text/plain": [
       "Country Name                 0\n",
       "Country Code                 0\n",
       "Year                       266\n",
       "CPI_AnnualChange          6296\n",
       "GDP_Growth                3442\n",
       "MoneySupply_GDPpct        6728\n",
       "ExchangeRate_LCUperUSD    5248\n",
       "dtype: int64"
      ]
     },
     "execution_count": 10,
     "metadata": {},
     "output_type": "execute_result"
    }
   ],
   "source": [
    "merged_df.isna().sum()"
   ]
  },
  {
   "cell_type": "markdown",
   "id": "57835237-6c50-4177-b612-6d1ffb22bc9a",
   "metadata": {},
   "source": [
    "### 7B. Investigate Rows with Missing Values\n",
    "Check a few examples to see which indicators are missing."
   ]
  },
  {
   "cell_type": "code",
   "execution_count": 11,
   "id": "ae20df29-753b-48c9-aa4a-3cf055f4ab4b",
   "metadata": {},
   "outputs": [
    {
     "data": {
      "text/html": [
       "<div>\n",
       "<style scoped>\n",
       "    .dataframe tbody tr th:only-of-type {\n",
       "        vertical-align: middle;\n",
       "    }\n",
       "\n",
       "    .dataframe tbody tr th {\n",
       "        vertical-align: top;\n",
       "    }\n",
       "\n",
       "    .dataframe thead th {\n",
       "        text-align: right;\n",
       "    }\n",
       "</style>\n",
       "<table border=\"1\" class=\"dataframe\">\n",
       "  <thead>\n",
       "    <tr style=\"text-align: right;\">\n",
       "      <th></th>\n",
       "      <th>Country Name</th>\n",
       "      <th>Country Code</th>\n",
       "      <th>Year</th>\n",
       "      <th>CPI_AnnualChange</th>\n",
       "      <th>GDP_Growth</th>\n",
       "      <th>MoneySupply_GDPpct</th>\n",
       "      <th>ExchangeRate_LCUperUSD</th>\n",
       "    </tr>\n",
       "  </thead>\n",
       "  <tbody>\n",
       "    <tr>\n",
       "      <th>12951</th>\n",
       "      <td>Portugal</td>\n",
       "      <td>PRT</td>\n",
       "      <td>1975.0</td>\n",
       "      <td>15.271686</td>\n",
       "      <td>-4.347632</td>\n",
       "      <td>NaN</td>\n",
       "      <td>25.552750</td>\n",
       "    </tr>\n",
       "    <tr>\n",
       "      <th>9351</th>\n",
       "      <td>Liechtenstein</td>\n",
       "      <td>LIE</td>\n",
       "      <td>2005.0</td>\n",
       "      <td>NaN</td>\n",
       "      <td>4.828077</td>\n",
       "      <td>NaN</td>\n",
       "      <td>NaN</td>\n",
       "    </tr>\n",
       "    <tr>\n",
       "      <th>4186</th>\n",
       "      <td>East Asia &amp; Pacific</td>\n",
       "      <td>EAS</td>\n",
       "      <td>1988.0</td>\n",
       "      <td>7.887324</td>\n",
       "      <td>7.608775</td>\n",
       "      <td>145.655210</td>\n",
       "      <td>NaN</td>\n",
       "    </tr>\n",
       "    <tr>\n",
       "      <th>12352</th>\n",
       "      <td>Pacific island small states</td>\n",
       "      <td>PSS</td>\n",
       "      <td>1970.0</td>\n",
       "      <td>NaN</td>\n",
       "      <td>NaN</td>\n",
       "      <td>29.625367</td>\n",
       "      <td>NaN</td>\n",
       "    </tr>\n",
       "    <tr>\n",
       "      <th>9127</th>\n",
       "      <td>Lesotho</td>\n",
       "      <td>LSO</td>\n",
       "      <td>1979.0</td>\n",
       "      <td>16.003552</td>\n",
       "      <td>2.893919</td>\n",
       "      <td>NaN</td>\n",
       "      <td>0.842023</td>\n",
       "    </tr>\n",
       "  </tbody>\n",
       "</table>\n",
       "</div>"
      ],
      "text/plain": [
       "                      Country Name Country Code    Year  CPI_AnnualChange  \\\n",
       "12951                     Portugal          PRT  1975.0         15.271686   \n",
       "9351                 Liechtenstein          LIE  2005.0               NaN   \n",
       "4186           East Asia & Pacific          EAS  1988.0          7.887324   \n",
       "12352  Pacific island small states          PSS  1970.0               NaN   \n",
       "9127                       Lesotho          LSO  1979.0         16.003552   \n",
       "\n",
       "       GDP_Growth  MoneySupply_GDPpct  ExchangeRate_LCUperUSD  \n",
       "12951   -4.347632                 NaN               25.552750  \n",
       "9351     4.828077                 NaN                     NaN  \n",
       "4186     7.608775          145.655210                     NaN  \n",
       "12352         NaN           29.625367                     NaN  \n",
       "9127     2.893919                 NaN                0.842023  "
      ]
     },
     "execution_count": 11,
     "metadata": {},
     "output_type": "execute_result"
    }
   ],
   "source": [
    "merged_df[merged_df.isna().any(axis=1)].sample(5, random_state=39)"
   ]
  },
  {
   "cell_type": "markdown",
   "id": "b741ec7f-12a8-4e2b-a18c-8e380248f3d4",
   "metadata": {},
   "source": [
    "### 7C. Handle Missing Values After Investigation\n",
    "Our strategy for Step 01:\n",
    "- If a country-year has **all 4 indicators missing**, drop the row → because it carries no usable information.  \n",
    "- Otherwise, leave NaN as-is.  \n",
    "- Imputation will be considered later in Step 03 (feature engineering stage)."
   ]
  },
  {
   "cell_type": "code",
   "execution_count": 12,
   "id": "26ea4d66-f98e-4ebc-a2fc-beecfde46640",
   "metadata": {},
   "outputs": [],
   "source": [
    "# Drop rows where all key indicators are missing\n",
    "key_cols = [\"CPI_AnnualChange\", \"GDP_Growth\", \"MoneySupply_GDPpct\", \"ExchangeRate_LCUperUSD\"]\n",
    "merged_df = merged_df.dropna(subset=key_cols, how=\"all\")"
   ]
  },
  {
   "cell_type": "code",
   "execution_count": 13,
   "id": "b029c1d3-a962-4ccf-bfc5-519352e5ee87",
   "metadata": {},
   "outputs": [
    {
     "name": "stdout",
     "output_type": "stream",
     "text": [
      "Dataset shape after cleaning: (15918, 7)\n"
     ]
    }
   ],
   "source": [
    "# Check final dataset dimensions\n",
    "print(\"Dataset shape after cleaning:\", merged_df.shape)"
   ]
  },
  {
   "cell_type": "markdown",
   "id": "390d0e74-cb5a-411e-8f7e-4494b3f8a63f",
   "metadata": {},
   "source": [
    "## 8. Save Cleaned Dataset"
   ]
  },
  {
   "cell_type": "code",
   "execution_count": 14,
   "id": "61d0f704-2893-4b27-8f28-541ffa07d78e",
   "metadata": {},
   "outputs": [
    {
     "name": "stdout",
     "output_type": "stream",
     "text": [
      "Cleaned dataset saved to: data_intermediate/cleaned_merged_inflation_data.csv\n"
     ]
    }
   ],
   "source": [
    "output_file = os.path.join(OUTPUT_DIR, \"cleaned_merged_inflation_data.csv\")\n",
    "merged_df.to_csv(output_file, index=False)\n",
    "print(f\"Cleaned dataset saved to: {output_file}\")"
   ]
  },
  {
   "cell_type": "markdown",
   "id": "152fbd50-a11b-4bf1-b3f2-d337a743a2a3",
   "metadata": {},
   "source": [
    "## 9. Summary\n",
    "- Loaded 4 datasets from World Bank.  \n",
    "- Reshaped them into long format.  \n",
    "- Merged into a single dataset with 15918 rows and 7 columns.  \n",
    "- Removed rows where all indicators are missing.  \n",
    "- Left partial NaN values untouched (to be handled in Step 03 during feature engineering).  \n",
    "- Saved dataset as `cleaned_merged_inflation_data.csv` for further EDA.  \n"
   ]
  }
 ],
 "metadata": {
  "kernelspec": {
   "display_name": "Python [conda env:base] *",
   "language": "python",
   "name": "conda-base-py"
  },
  "language_info": {
   "codemirror_mode": {
    "name": "ipython",
    "version": 3
   },
   "file_extension": ".py",
   "mimetype": "text/x-python",
   "name": "python",
   "nbconvert_exporter": "python",
   "pygments_lexer": "ipython3",
   "version": "3.13.5"
  }
 },
 "nbformat": 4,
 "nbformat_minor": 5
}
